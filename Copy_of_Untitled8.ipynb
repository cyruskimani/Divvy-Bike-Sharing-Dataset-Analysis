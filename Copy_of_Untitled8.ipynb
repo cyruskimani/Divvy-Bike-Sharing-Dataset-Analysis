{
  "nbformat": 4,
  "nbformat_minor": 0,
  "metadata": {
    "colab": {
      "name": "Copy of Untitled8.ipynb",
      "provenance": [],
      "collapsed_sections": [],
      "mount_file_id": "1HogZ_bJmnvolZYdrZrEpO3TylPNz_OHT",
      "authorship_tag": "ABX9TyPTLlE0DIeHMrz9YzmVxXNX",
      "include_colab_link": true
    },
    "kernelspec": {
      "name": "python3",
      "display_name": "Python 3"
    },
    "language_info": {
      "name": "python"
    }
  },
  "cells": [
    {
      "cell_type": "markdown",
      "metadata": {
        "id": "view-in-github",
        "colab_type": "text"
      },
      "source": [
        "<a href=\"https://colab.research.google.com/github/cyruskimani/Divvy/blob/main/Copy_of_Untitled8.ipynb\" target=\"_parent\"><img src=\"https://colab.research.google.com/assets/colab-badge.svg\" alt=\"Open In Colab\"/></a>"
      ]
    },
    {
      "cell_type": "markdown",
      "metadata": {
        "id": "ikG6TjMy6uUo"
      },
      "source": [
        "Analysis Questions\n",
        "1. Is efficiency higher in the Equal Rationing treatment than in the Proportional Rationing treatment.\n",
        "\n",
        "2. How does efficiency vary with Group. Is there an interaction with the\n",
        "treatment?\n",
        "\n",
        "3. How does the first-stage allowance auction price differ by group/treatment?\n",
        "Is there an interaction effect?\n",
        "\n",
        "4. How does overbuying differ by group/treatment? Is there an interaction effect?\n",
        "\n",
        "5. Is there a difference in first-stage auction participation by treatment?\n",
        "\n",
        "6. Do any differences between group/treatment persist throughout the\n",
        "length of the experiment?"
      ]
    },
    {
      "cell_type": "code",
      "metadata": {
        "colab": {
          "base_uri": "https://localhost:8080/",
          "height": 0
        },
        "id": "oXR9j9oA6t2V",
        "outputId": "c5664b94-305d-421c-b403-3f3e2a6da7b5"
      },
      "source": [
        "\n",
        "from google.colab import drive\n",
        "drive.mount('/content/drive')"
      ],
      "execution_count": 1,
      "outputs": [
        {
          "output_type": "stream",
          "text": [
            "Mounted at /content/drive\n"
          ],
          "name": "stdout"
        }
      ]
    },
    {
      "cell_type": "markdown",
      "metadata": {
        "id": "3nY5d99b83SM"
      },
      "source": [
        "### Importing Libraries."
      ]
    },
    {
      "cell_type": "code",
      "metadata": {
        "id": "M0hpuEyo42Le"
      },
      "source": [
        "import pandas as pd\n",
        "import numpy as np\n",
        "import seaborn as sns"
      ],
      "execution_count": 2,
      "outputs": []
    },
    {
      "cell_type": "markdown",
      "metadata": {
        "id": "JiCOKkEU7OzH"
      },
      "source": [
        "## Round Data."
      ]
    },
    {
      "cell_type": "markdown",
      "metadata": {
        "id": "5RowWtKK7T1O"
      },
      "source": [
        "### Round data column descriptions."
      ]
    },
    {
      "cell_type": "code",
      "metadata": {
        "id": "TKNH86eLvDcq",
        "colab": {
          "base_uri": "https://localhost:8080/",
          "height": 468
        },
        "outputId": "65323a1b-04b2-415f-de0b-1147aff445f2"
      },
      "source": [
        "round_data_descriptions = pd.read_csv('/content/drive/MyDrive/25052021/round_data_column_desc.csv')\n",
        "round_data_descriptions"
      ],
      "execution_count": 7,
      "outputs": [
        {
          "output_type": "execute_result",
          "data": {
            "text/html": [
              "<div>\n",
              "<style scoped>\n",
              "    .dataframe tbody tr th:only-of-type {\n",
              "        vertical-align: middle;\n",
              "    }\n",
              "\n",
              "    .dataframe tbody tr th {\n",
              "        vertical-align: top;\n",
              "    }\n",
              "\n",
              "    .dataframe thead th {\n",
              "        text-align: right;\n",
              "    }\n",
              "</style>\n",
              "<table border=\"1\" class=\"dataframe\">\n",
              "  <thead>\n",
              "    <tr style=\"text-align: right;\">\n",
              "      <th></th>\n",
              "      <th>treatment</th>\n",
              "      <th>\"Proportional\" or \"Equal\" for reserve auction mechanism</th>\n",
              "    </tr>\n",
              "  </thead>\n",
              "  <tbody>\n",
              "    <tr>\n",
              "      <th>0</th>\n",
              "      <td>group</td>\n",
              "      <td>\"High\" or \"Low\" for whether it was group with...</td>\n",
              "    </tr>\n",
              "    <tr>\n",
              "      <th>1</th>\n",
              "      <td>experiment_id</td>\n",
              "      <td>unique id for each group</td>\n",
              "    </tr>\n",
              "    <tr>\n",
              "      <th>2</th>\n",
              "      <td>round</td>\n",
              "      <td>which of 32 auctions</td>\n",
              "    </tr>\n",
              "    <tr>\n",
              "      <th>3</th>\n",
              "      <td>auction_price</td>\n",
              "      <td>the price in the first-stage uniform price au...</td>\n",
              "    </tr>\n",
              "    <tr>\n",
              "      <th>4</th>\n",
              "      <td>total_demand</td>\n",
              "      <td>the total quantity demanded in the system</td>\n",
              "    </tr>\n",
              "    <tr>\n",
              "      <th>5</th>\n",
              "      <td>total_auction_income</td>\n",
              "      <td>auction_price * number of units sold in the a...</td>\n",
              "    </tr>\n",
              "    <tr>\n",
              "      <th>6</th>\n",
              "      <td>tier_1_income</td>\n",
              "      <td>number of units sold in the 1st tier * 20</td>\n",
              "    </tr>\n",
              "    <tr>\n",
              "      <th>7</th>\n",
              "      <td>tier_2_income</td>\n",
              "      <td>number of units sold in the 2nd tier * 30</td>\n",
              "    </tr>\n",
              "    <tr>\n",
              "      <th>8</th>\n",
              "      <td>efficiency</td>\n",
              "      <td>Dependent on the demand profile.  efficiency=...</td>\n",
              "    </tr>\n",
              "    <tr>\n",
              "      <th>9</th>\n",
              "      <td>demand_profile</td>\n",
              "      <td>there were 8 unique demand curves (value + qu...</td>\n",
              "    </tr>\n",
              "    <tr>\n",
              "      <th>10</th>\n",
              "      <td>overbuying_count</td>\n",
              "      <td>the number of bidders who bought more than th...</td>\n",
              "    </tr>\n",
              "    <tr>\n",
              "      <th>11</th>\n",
              "      <td>efficiency_relative</td>\n",
              "      <td>calculated average surplus from handing units...</td>\n",
              "    </tr>\n",
              "    <tr>\n",
              "      <th>12</th>\n",
              "      <td>high_value_demand</td>\n",
              "      <td>whether the demand profile is one in which bi...</td>\n",
              "    </tr>\n",
              "    <tr>\n",
              "      <th>13</th>\n",
              "      <td>demand_level</td>\n",
              "      <td>the level of demand in the profile.  Index ve...</td>\n",
              "    </tr>\n",
              "  </tbody>\n",
              "</table>\n",
              "</div>"
            ],
            "text/plain": [
              "               treatment  \"Proportional\" or \"Equal\" for reserve auction mechanism\n",
              "0                  group   \"High\" or \"Low\" for whether it was group with...      \n",
              "1          experiment_id                           unique id for each group      \n",
              "2                  round                               which of 32 auctions      \n",
              "3          auction_price   the price in the first-stage uniform price au...      \n",
              "4           total_demand          the total quantity demanded in the system      \n",
              "5   total_auction_income   auction_price * number of units sold in the a...      \n",
              "6          tier_1_income          number of units sold in the 1st tier * 20      \n",
              "7          tier_2_income          number of units sold in the 2nd tier * 30      \n",
              "8             efficiency   Dependent on the demand profile.  efficiency=...      \n",
              "9         demand_profile   there were 8 unique demand curves (value + qu...      \n",
              "10      overbuying_count   the number of bidders who bought more than th...      \n",
              "11   efficiency_relative   calculated average surplus from handing units...      \n",
              "12     high_value_demand   whether the demand profile is one in which bi...      \n",
              "13          demand_level   the level of demand in the profile.  Index ve...      "
            ]
          },
          "metadata": {
            "tags": []
          },
          "execution_count": 7
        }
      ]
    },
    {
      "cell_type": "code",
      "metadata": {
        "id": "FmwJ8MJHVvcb"
      },
      "source": [
        ""
      ],
      "execution_count": null,
      "outputs": []
    },
    {
      "cell_type": "code",
      "metadata": {
        "id": "O7fSXBXjVvYc"
      },
      "source": [
        ""
      ],
      "execution_count": null,
      "outputs": []
    },
    {
      "cell_type": "code",
      "metadata": {
        "id": "yeL529LbVvUS"
      },
      "source": [
        ""
      ],
      "execution_count": null,
      "outputs": []
    },
    {
      "cell_type": "markdown",
      "metadata": {
        "id": "1KAOfrwB9HWk"
      },
      "source": [
        "### Loading the Data."
      ]
    },
    {
      "cell_type": "code",
      "metadata": {
        "id": "TRc8dXMZvDlv",
        "colab": {
          "base_uri": "https://localhost:8080/",
          "height": 218
        },
        "outputId": "3e534c11-d215-4ad4-c7ad-c94d27a29a1c"
      },
      "source": [
        "# Loading the data.\n",
        "r_df = pd.read_csv('/content/drive/MyDrive/25052021/round_data.csv')\n",
        "r_df.head()"
      ],
      "execution_count": 14,
      "outputs": [
        {
          "output_type": "execute_result",
          "data": {
            "text/html": [
              "<div>\n",
              "<style scoped>\n",
              "    .dataframe tbody tr th:only-of-type {\n",
              "        vertical-align: middle;\n",
              "    }\n",
              "\n",
              "    .dataframe tbody tr th {\n",
              "        vertical-align: top;\n",
              "    }\n",
              "\n",
              "    .dataframe thead th {\n",
              "        text-align: right;\n",
              "    }\n",
              "</style>\n",
              "<table border=\"1\" class=\"dataframe\">\n",
              "  <thead>\n",
              "    <tr style=\"text-align: right;\">\n",
              "      <th></th>\n",
              "      <th>treatment</th>\n",
              "      <th>group</th>\n",
              "      <th>experiment_id</th>\n",
              "      <th>round</th>\n",
              "      <th>auction_price</th>\n",
              "      <th>total_demand</th>\n",
              "      <th>total_auction_income</th>\n",
              "      <th>tier_1_income</th>\n",
              "      <th>tier_2_income</th>\n",
              "      <th>efficiency</th>\n",
              "      <th>demand_profile</th>\n",
              "      <th>overbuying_count</th>\n",
              "      <th>efficiency_relative</th>\n",
              "      <th>high_value_demand</th>\n",
              "      <th>demand_level</th>\n",
              "    </tr>\n",
              "  </thead>\n",
              "  <tbody>\n",
              "    <tr>\n",
              "      <th>0</th>\n",
              "      <td>Proportional</td>\n",
              "      <td>High</td>\n",
              "      <td>0</td>\n",
              "      <td>1</td>\n",
              "      <td>20</td>\n",
              "      <td>168</td>\n",
              "      <td>1200</td>\n",
              "      <td>1000</td>\n",
              "      <td>900</td>\n",
              "      <td>0.840265</td>\n",
              "      <td>5</td>\n",
              "      <td>0</td>\n",
              "      <td>-0.201721</td>\n",
              "      <td>0</td>\n",
              "      <td>2</td>\n",
              "    </tr>\n",
              "    <tr>\n",
              "      <th>1</th>\n",
              "      <td>Proportional</td>\n",
              "      <td>High</td>\n",
              "      <td>0</td>\n",
              "      <td>2</td>\n",
              "      <td>30</td>\n",
              "      <td>151</td>\n",
              "      <td>1800</td>\n",
              "      <td>1000</td>\n",
              "      <td>1020</td>\n",
              "      <td>0.870866</td>\n",
              "      <td>3</td>\n",
              "      <td>1</td>\n",
              "      <td>-0.416870</td>\n",
              "      <td>0</td>\n",
              "      <td>1</td>\n",
              "    </tr>\n",
              "    <tr>\n",
              "      <th>2</th>\n",
              "      <td>Proportional</td>\n",
              "      <td>High</td>\n",
              "      <td>0</td>\n",
              "      <td>3</td>\n",
              "      <td>50</td>\n",
              "      <td>151</td>\n",
              "      <td>3000</td>\n",
              "      <td>1000</td>\n",
              "      <td>1170</td>\n",
              "      <td>0.938058</td>\n",
              "      <td>3</td>\n",
              "      <td>1</td>\n",
              "      <td>0.320363</td>\n",
              "      <td>0</td>\n",
              "      <td>1</td>\n",
              "    </tr>\n",
              "    <tr>\n",
              "      <th>3</th>\n",
              "      <td>Proportional</td>\n",
              "      <td>High</td>\n",
              "      <td>0</td>\n",
              "      <td>4</td>\n",
              "      <td>40</td>\n",
              "      <td>210</td>\n",
              "      <td>2400</td>\n",
              "      <td>1000</td>\n",
              "      <td>1500</td>\n",
              "      <td>0.786597</td>\n",
              "      <td>6</td>\n",
              "      <td>0</td>\n",
              "      <td>0.366418</td>\n",
              "      <td>1</td>\n",
              "      <td>3</td>\n",
              "    </tr>\n",
              "    <tr>\n",
              "      <th>4</th>\n",
              "      <td>Proportional</td>\n",
              "      <td>High</td>\n",
              "      <td>0</td>\n",
              "      <td>5</td>\n",
              "      <td>45</td>\n",
              "      <td>210</td>\n",
              "      <td>2700</td>\n",
              "      <td>1000</td>\n",
              "      <td>1500</td>\n",
              "      <td>0.791824</td>\n",
              "      <td>7</td>\n",
              "      <td>0</td>\n",
              "      <td>0.118316</td>\n",
              "      <td>0</td>\n",
              "      <td>3</td>\n",
              "    </tr>\n",
              "  </tbody>\n",
              "</table>\n",
              "</div>"
            ],
            "text/plain": [
              "      treatment group  ...  high_value_demand  demand_level\n",
              "0  Proportional  High  ...                  0             2\n",
              "1  Proportional  High  ...                  0             1\n",
              "2  Proportional  High  ...                  0             1\n",
              "3  Proportional  High  ...                  1             3\n",
              "4  Proportional  High  ...                  0             3\n",
              "\n",
              "[5 rows x 15 columns]"
            ]
          },
          "metadata": {
            "tags": []
          },
          "execution_count": 14
        }
      ]
    },
    {
      "cell_type": "code",
      "metadata": {
        "id": "osLJObdNVxRQ"
      },
      "source": [
        ""
      ],
      "execution_count": null,
      "outputs": []
    },
    {
      "cell_type": "code",
      "metadata": {
        "id": "ADbTm1W9VxL3"
      },
      "source": [
        ""
      ],
      "execution_count": null,
      "outputs": []
    },
    {
      "cell_type": "code",
      "metadata": {
        "id": "jjv70LxdVxIC"
      },
      "source": [
        ""
      ],
      "execution_count": null,
      "outputs": []
    },
    {
      "cell_type": "code",
      "metadata": {
        "colab": {
          "base_uri": "https://localhost:8080/",
          "height": 0
        },
        "id": "HFPu-81T9Ngb",
        "outputId": "f15a0d27-9217-49c2-82b1-594a9d2ca6b3"
      },
      "source": [
        "# Checking for null values.\n",
        "r_df.isna().sum()"
      ],
      "execution_count": 10,
      "outputs": [
        {
          "output_type": "execute_result",
          "data": {
            "text/plain": [
              "treatment               0\n",
              "group                   0\n",
              "experiment_id           0\n",
              "round                   0\n",
              "auction_price           0\n",
              "total_demand            0\n",
              "total_auction_income    0\n",
              "tier_1_income           0\n",
              "tier_2_income           0\n",
              "efficiency              0\n",
              "demand_profile          0\n",
              "overbuying_count        0\n",
              "efficiency_relative     0\n",
              "high_value_demand       0\n",
              "demand_level            0\n",
              "dtype: int64"
            ]
          },
          "metadata": {
            "tags": []
          },
          "execution_count": 10
        }
      ]
    },
    {
      "cell_type": "markdown",
      "metadata": {
        "id": "-c1Hyg0c-J4k"
      },
      "source": [
        "* No null values were found."
      ]
    },
    {
      "cell_type": "code",
      "metadata": {
        "id": "0j-314tiVyRz"
      },
      "source": [
        ""
      ],
      "execution_count": null,
      "outputs": []
    },
    {
      "cell_type": "code",
      "metadata": {
        "id": "2L0zt5dqVyNc"
      },
      "source": [
        ""
      ],
      "execution_count": null,
      "outputs": []
    },
    {
      "cell_type": "code",
      "metadata": {
        "id": "w7zrak6sVyJQ"
      },
      "source": [
        ""
      ],
      "execution_count": null,
      "outputs": []
    },
    {
      "cell_type": "code",
      "metadata": {
        "colab": {
          "base_uri": "https://localhost:8080/",
          "height": 0
        },
        "id": "BnuFdQqu9lij",
        "outputId": "80537fb3-71b1-4909-9443-c775b219503f"
      },
      "source": [
        "\n",
        "# Checking for duplicates\n",
        "r_df.duplicated().sum()"
      ],
      "execution_count": 12,
      "outputs": [
        {
          "output_type": "execute_result",
          "data": {
            "text/plain": [
              "0"
            ]
          },
          "metadata": {
            "tags": []
          },
          "execution_count": 12
        }
      ]
    },
    {
      "cell_type": "markdown",
      "metadata": {
        "id": "BA_I-RwK-PUp"
      },
      "source": [
        "* No duplicates were found."
      ]
    },
    {
      "cell_type": "code",
      "metadata": {
        "id": "X6nps0dAVzWh"
      },
      "source": [
        ""
      ],
      "execution_count": null,
      "outputs": []
    },
    {
      "cell_type": "code",
      "metadata": {
        "id": "XGJwfF4DVzSp"
      },
      "source": [
        ""
      ],
      "execution_count": null,
      "outputs": []
    },
    {
      "cell_type": "markdown",
      "metadata": {
        "id": "vXmlrrki9BTM"
      },
      "source": [
        "## Subject Data."
      ]
    },
    {
      "cell_type": "code",
      "metadata": {
        "id": "xlWNOPbPvDYu",
        "colab": {
          "base_uri": "https://localhost:8080/",
          "height": 678
        },
        "outputId": "33e6aecc-85fc-4b79-e53b-bc0252c884f3"
      },
      "source": [
        "subject_data_description = pd.read_csv('/content/drive/MyDrive/25052021/subject_data_column_desc.csv')\n",
        "subject_data_description"
      ],
      "execution_count": 8,
      "outputs": [
        {
          "output_type": "execute_result",
          "data": {
            "text/html": [
              "<div>\n",
              "<style scoped>\n",
              "    .dataframe tbody tr th:only-of-type {\n",
              "        vertical-align: middle;\n",
              "    }\n",
              "\n",
              "    .dataframe tbody tr th {\n",
              "        vertical-align: top;\n",
              "    }\n",
              "\n",
              "    .dataframe thead th {\n",
              "        text-align: right;\n",
              "    }\n",
              "</style>\n",
              "<table border=\"1\" class=\"dataframe\">\n",
              "  <thead>\n",
              "    <tr style=\"text-align: right;\">\n",
              "      <th></th>\n",
              "      <th>treatment</th>\n",
              "      <th>\"Proportional\" or \"Equal\" for reserve auction mechanism</th>\n",
              "    </tr>\n",
              "  </thead>\n",
              "  <tbody>\n",
              "    <tr>\n",
              "      <th>0</th>\n",
              "      <td>group</td>\n",
              "      <td>\"High\" or \"Low\" for whether it was group with...</td>\n",
              "    </tr>\n",
              "    <tr>\n",
              "      <th>1</th>\n",
              "      <td>round</td>\n",
              "      <td>which of the 32 auctions</td>\n",
              "    </tr>\n",
              "    <tr>\n",
              "      <th>2</th>\n",
              "      <td>subject_id</td>\n",
              "      <td>unique id for each subject</td>\n",
              "    </tr>\n",
              "    <tr>\n",
              "      <th>3</th>\n",
              "      <td>experiment_id</td>\n",
              "      <td>unique id for each group</td>\n",
              "    </tr>\n",
              "    <tr>\n",
              "      <th>4</th>\n",
              "      <td>demand_profile</td>\n",
              "      <td>there were 8 unique demand curves (value + qu...</td>\n",
              "    </tr>\n",
              "    <tr>\n",
              "      <th>5</th>\n",
              "      <td>high_value_demand</td>\n",
              "      <td>whether the demand profile is one in which bi...</td>\n",
              "    </tr>\n",
              "    <tr>\n",
              "      <th>6</th>\n",
              "      <td>demand_level</td>\n",
              "      <td>the level of demand in the profile.  Index ve...</td>\n",
              "    </tr>\n",
              "    <tr>\n",
              "      <th>7</th>\n",
              "      <td>value</td>\n",
              "      <td>this subject's value this round</td>\n",
              "    </tr>\n",
              "    <tr>\n",
              "      <th>8</th>\n",
              "      <td>demand</td>\n",
              "      <td>this subject's total demand for this round</td>\n",
              "    </tr>\n",
              "    <tr>\n",
              "      <th>9</th>\n",
              "      <td>auction_bid_price</td>\n",
              "      <td>subject's price bid in the first-stage auction</td>\n",
              "    </tr>\n",
              "    <tr>\n",
              "      <th>10</th>\n",
              "      <td>auction_bid_quantity</td>\n",
              "      <td>subject's quantity bid in the first-stage auc...</td>\n",
              "    </tr>\n",
              "    <tr>\n",
              "      <th>11</th>\n",
              "      <td>auction_price</td>\n",
              "      <td>the price in the first-stage uniform price au...</td>\n",
              "    </tr>\n",
              "    <tr>\n",
              "      <th>12</th>\n",
              "      <td>auction_received</td>\n",
              "      <td>number of units won by the bidder in the firs...</td>\n",
              "    </tr>\n",
              "    <tr>\n",
              "      <th>13</th>\n",
              "      <td>tier_1_demanded</td>\n",
              "      <td>number of units requested at the $20 dollar r...</td>\n",
              "    </tr>\n",
              "    <tr>\n",
              "      <th>14</th>\n",
              "      <td>tier_2_demanded</td>\n",
              "      <td>number of units requested at the $30 dollar r...</td>\n",
              "    </tr>\n",
              "    <tr>\n",
              "      <th>15</th>\n",
              "      <td>equal_demanded</td>\n",
              "      <td>number of units requested in the Equal reserv...</td>\n",
              "    </tr>\n",
              "    <tr>\n",
              "      <th>16</th>\n",
              "      <td>tier_1_received</td>\n",
              "      <td>number of units won in the $20 dollar reserve...</td>\n",
              "    </tr>\n",
              "    <tr>\n",
              "      <th>17</th>\n",
              "      <td>tier_2_received</td>\n",
              "      <td>number of units won in the $30 dollar reserve...</td>\n",
              "    </tr>\n",
              "    <tr>\n",
              "      <th>18</th>\n",
              "      <td>total_earnings</td>\n",
              "      <td>total net earnings this round</td>\n",
              "    </tr>\n",
              "    <tr>\n",
              "      <th>19</th>\n",
              "      <td>total_recieved</td>\n",
              "      <td>total quantity received across both stages</td>\n",
              "    </tr>\n",
              "    <tr>\n",
              "      <th>20</th>\n",
              "      <td>overbought</td>\n",
              "      <td>number of units received beyond demand</td>\n",
              "    </tr>\n",
              "  </tbody>\n",
              "</table>\n",
              "</div>"
            ],
            "text/plain": [
              "               treatment  \"Proportional\" or \"Equal\" for reserve auction mechanism\n",
              "0                  group   \"High\" or \"Low\" for whether it was group with...      \n",
              "1                  round                           which of the 32 auctions      \n",
              "2             subject_id                         unique id for each subject      \n",
              "3          experiment_id                           unique id for each group      \n",
              "4         demand_profile   there were 8 unique demand curves (value + qu...      \n",
              "5      high_value_demand   whether the demand profile is one in which bi...      \n",
              "6           demand_level   the level of demand in the profile.  Index ve...      \n",
              "7                  value                    this subject's value this round      \n",
              "8                 demand         this subject's total demand for this round      \n",
              "9      auction_bid_price     subject's price bid in the first-stage auction      \n",
              "10  auction_bid_quantity   subject's quantity bid in the first-stage auc...      \n",
              "11         auction_price   the price in the first-stage uniform price au...      \n",
              "12      auction_received   number of units won by the bidder in the firs...      \n",
              "13       tier_1_demanded   number of units requested at the $20 dollar r...      \n",
              "14       tier_2_demanded   number of units requested at the $30 dollar r...      \n",
              "15        equal_demanded   number of units requested in the Equal reserv...      \n",
              "16       tier_1_received   number of units won in the $20 dollar reserve...      \n",
              "17       tier_2_received   number of units won in the $30 dollar reserve...      \n",
              "18        total_earnings                      total net earnings this round      \n",
              "19        total_recieved         total quantity received across both stages      \n",
              "20            overbought             number of units received beyond demand      "
            ]
          },
          "metadata": {
            "tags": []
          },
          "execution_count": 8
        }
      ]
    },
    {
      "cell_type": "code",
      "metadata": {
        "id": "FLFbRe1hV2O5"
      },
      "source": [
        ""
      ],
      "execution_count": null,
      "outputs": []
    },
    {
      "cell_type": "code",
      "metadata": {
        "id": "YpN483V2V1-Z"
      },
      "source": [
        ""
      ],
      "execution_count": null,
      "outputs": []
    },
    {
      "cell_type": "markdown",
      "metadata": {
        "id": "tSmNZoP_V41u"
      },
      "source": [
        "### Loading the data."
      ]
    },
    {
      "cell_type": "code",
      "metadata": {
        "colab": {
          "base_uri": "https://localhost:8080/",
          "height": 218
        },
        "id": "Nt8S5YM15zvB",
        "outputId": "82d17bf2-9501-4e18-e7d7-9f7bf48101cf"
      },
      "source": [
        "s_df = pd.read_csv('/content/drive/MyDrive/25052021/subject_data.csv')\n",
        "s_df.head()"
      ],
      "execution_count": 13,
      "outputs": [
        {
          "output_type": "execute_result",
          "data": {
            "text/html": [
              "<div>\n",
              "<style scoped>\n",
              "    .dataframe tbody tr th:only-of-type {\n",
              "        vertical-align: middle;\n",
              "    }\n",
              "\n",
              "    .dataframe tbody tr th {\n",
              "        vertical-align: top;\n",
              "    }\n",
              "\n",
              "    .dataframe thead th {\n",
              "        text-align: right;\n",
              "    }\n",
              "</style>\n",
              "<table border=\"1\" class=\"dataframe\">\n",
              "  <thead>\n",
              "    <tr style=\"text-align: right;\">\n",
              "      <th></th>\n",
              "      <th>treatment</th>\n",
              "      <th>group</th>\n",
              "      <th>round</th>\n",
              "      <th>subject_id</th>\n",
              "      <th>experiment_id</th>\n",
              "      <th>demand_profile</th>\n",
              "      <th>high_value_demand</th>\n",
              "      <th>demand_level</th>\n",
              "      <th>value</th>\n",
              "      <th>demand</th>\n",
              "      <th>auction_bid_price</th>\n",
              "      <th>auction_bid_quantity</th>\n",
              "      <th>auction_price</th>\n",
              "      <th>auction_received</th>\n",
              "      <th>tier_1_demanded</th>\n",
              "      <th>tier_2_demanded</th>\n",
              "      <th>equal_demanded</th>\n",
              "      <th>tier_1_received</th>\n",
              "      <th>tier_2_received</th>\n",
              "      <th>total_earnings</th>\n",
              "      <th>total_received</th>\n",
              "      <th>overbought</th>\n",
              "    </tr>\n",
              "  </thead>\n",
              "  <tbody>\n",
              "    <tr>\n",
              "      <th>0</th>\n",
              "      <td>Proportional</td>\n",
              "      <td>High</td>\n",
              "      <td>1</td>\n",
              "      <td>0</td>\n",
              "      <td>0</td>\n",
              "      <td>5</td>\n",
              "      <td>0</td>\n",
              "      <td>2</td>\n",
              "      <td>85</td>\n",
              "      <td>17</td>\n",
              "      <td>50</td>\n",
              "      <td>10</td>\n",
              "      <td>20</td>\n",
              "      <td>10</td>\n",
              "      <td>3</td>\n",
              "      <td>2</td>\n",
              "      <td>0</td>\n",
              "      <td>1</td>\n",
              "      <td>2</td>\n",
              "      <td>825</td>\n",
              "      <td>13</td>\n",
              "      <td>0</td>\n",
              "    </tr>\n",
              "    <tr>\n",
              "      <th>1</th>\n",
              "      <td>Proportional</td>\n",
              "      <td>High</td>\n",
              "      <td>2</td>\n",
              "      <td>0</td>\n",
              "      <td>0</td>\n",
              "      <td>3</td>\n",
              "      <td>0</td>\n",
              "      <td>1</td>\n",
              "      <td>75</td>\n",
              "      <td>18</td>\n",
              "      <td>65</td>\n",
              "      <td>10</td>\n",
              "      <td>30</td>\n",
              "      <td>10</td>\n",
              "      <td>4</td>\n",
              "      <td>3</td>\n",
              "      <td>0</td>\n",
              "      <td>2</td>\n",
              "      <td>3</td>\n",
              "      <td>695</td>\n",
              "      <td>15</td>\n",
              "      <td>0</td>\n",
              "    </tr>\n",
              "    <tr>\n",
              "      <th>2</th>\n",
              "      <td>Proportional</td>\n",
              "      <td>High</td>\n",
              "      <td>3</td>\n",
              "      <td>0</td>\n",
              "      <td>0</td>\n",
              "      <td>3</td>\n",
              "      <td>0</td>\n",
              "      <td>1</td>\n",
              "      <td>55</td>\n",
              "      <td>22</td>\n",
              "      <td>50</td>\n",
              "      <td>15</td>\n",
              "      <td>50</td>\n",
              "      <td>15</td>\n",
              "      <td>4</td>\n",
              "      <td>3</td>\n",
              "      <td>0</td>\n",
              "      <td>2</td>\n",
              "      <td>3</td>\n",
              "      <td>220</td>\n",
              "      <td>20</td>\n",
              "      <td>0</td>\n",
              "    </tr>\n",
              "    <tr>\n",
              "      <th>3</th>\n",
              "      <td>Proportional</td>\n",
              "      <td>High</td>\n",
              "      <td>4</td>\n",
              "      <td>0</td>\n",
              "      <td>0</td>\n",
              "      <td>6</td>\n",
              "      <td>1</td>\n",
              "      <td>3</td>\n",
              "      <td>55</td>\n",
              "      <td>21</td>\n",
              "      <td>45</td>\n",
              "      <td>10</td>\n",
              "      <td>40</td>\n",
              "      <td>10</td>\n",
              "      <td>6</td>\n",
              "      <td>4</td>\n",
              "      <td>0</td>\n",
              "      <td>5</td>\n",
              "      <td>3</td>\n",
              "      <td>400</td>\n",
              "      <td>18</td>\n",
              "      <td>0</td>\n",
              "    </tr>\n",
              "    <tr>\n",
              "      <th>4</th>\n",
              "      <td>Proportional</td>\n",
              "      <td>High</td>\n",
              "      <td>5</td>\n",
              "      <td>0</td>\n",
              "      <td>0</td>\n",
              "      <td>7</td>\n",
              "      <td>0</td>\n",
              "      <td>3</td>\n",
              "      <td>65</td>\n",
              "      <td>28</td>\n",
              "      <td>45</td>\n",
              "      <td>15</td>\n",
              "      <td>45</td>\n",
              "      <td>15</td>\n",
              "      <td>7</td>\n",
              "      <td>5</td>\n",
              "      <td>0</td>\n",
              "      <td>4</td>\n",
              "      <td>4</td>\n",
              "      <td>620</td>\n",
              "      <td>23</td>\n",
              "      <td>0</td>\n",
              "    </tr>\n",
              "  </tbody>\n",
              "</table>\n",
              "</div>"
            ],
            "text/plain": [
              "      treatment group  round  ...  total_earnings  total_received  overbought\n",
              "0  Proportional  High      1  ...             825              13           0\n",
              "1  Proportional  High      2  ...             695              15           0\n",
              "2  Proportional  High      3  ...             220              20           0\n",
              "3  Proportional  High      4  ...             400              18           0\n",
              "4  Proportional  High      5  ...             620              23           0\n",
              "\n",
              "[5 rows x 22 columns]"
            ]
          },
          "metadata": {
            "tags": []
          },
          "execution_count": 13
        }
      ]
    },
    {
      "cell_type": "code",
      "metadata": {
        "id": "a8po-RpjWICp"
      },
      "source": [
        ""
      ],
      "execution_count": null,
      "outputs": []
    },
    {
      "cell_type": "code",
      "metadata": {
        "id": "8HUVgNzrWHqd"
      },
      "source": [
        ""
      ],
      "execution_count": null,
      "outputs": []
    },
    {
      "cell_type": "code",
      "metadata": {
        "id": "-LYelDNNWHjR"
      },
      "source": [
        ""
      ],
      "execution_count": null,
      "outputs": []
    },
    {
      "cell_type": "code",
      "metadata": {
        "colab": {
          "base_uri": "https://localhost:8080/",
          "height": 0
        },
        "id": "EfIufJLL_qux",
        "outputId": "305f61bd-e5b7-4a8f-adb6-ad9d01aa6bb0"
      },
      "source": [
        "# Checking for null values\n",
        "s_df.isna().sum()"
      ],
      "execution_count": 15,
      "outputs": [
        {
          "output_type": "execute_result",
          "data": {
            "text/plain": [
              "treatment               0\n",
              "group                   0\n",
              "round                   0\n",
              "subject_id              0\n",
              "experiment_id           0\n",
              "demand_profile          0\n",
              "high_value_demand       0\n",
              "demand_level            0\n",
              "value                   0\n",
              "demand                  0\n",
              "auction_bid_price       0\n",
              "auction_bid_quantity    0\n",
              "auction_price           0\n",
              "auction_received        0\n",
              "tier_1_demanded         0\n",
              "tier_2_demanded         0\n",
              "equal_demanded          0\n",
              "tier_1_received         0\n",
              "tier_2_received         0\n",
              "total_earnings          0\n",
              "total_received          0\n",
              "overbought              0\n",
              "dtype: int64"
            ]
          },
          "metadata": {
            "tags": []
          },
          "execution_count": 15
        }
      ]
    },
    {
      "cell_type": "markdown",
      "metadata": {
        "id": "jxVuLwG0_zf_"
      },
      "source": [
        "* No null values"
      ]
    },
    {
      "cell_type": "code",
      "metadata": {
        "id": "qp5qM4_tWKOi"
      },
      "source": [
        ""
      ],
      "execution_count": null,
      "outputs": []
    },
    {
      "cell_type": "code",
      "metadata": {
        "id": "h5mShlafWKGo"
      },
      "source": [
        ""
      ],
      "execution_count": null,
      "outputs": []
    },
    {
      "cell_type": "code",
      "metadata": {
        "colab": {
          "base_uri": "https://localhost:8080/",
          "height": 0
        },
        "id": "4AcDXTNn_xZa",
        "outputId": "e1c95c30-3e9f-429c-bf73-c8d65b1d0189"
      },
      "source": [
        "# Checking for duplicates\n",
        "s_df.duplicated().sum()"
      ],
      "execution_count": 16,
      "outputs": [
        {
          "output_type": "execute_result",
          "data": {
            "text/plain": [
              "0"
            ]
          },
          "metadata": {
            "tags": []
          },
          "execution_count": 16
        }
      ]
    },
    {
      "cell_type": "markdown",
      "metadata": {
        "id": "wPFhEy1K_9x-"
      },
      "source": [
        "* No duplicates were found."
      ]
    },
    {
      "cell_type": "markdown",
      "metadata": {
        "id": "jgyLXNwyAOBW"
      },
      "source": [
        "## Importing Pymc3."
      ]
    },
    {
      "cell_type": "code",
      "metadata": {
        "id": "3tVUnIMc_8vR"
      },
      "source": [
        "!pip install pymc3"
      ],
      "execution_count": null,
      "outputs": []
    },
    {
      "cell_type": "code",
      "metadata": {
        "id": "KF2TvNH6AVA2"
      },
      "source": [
        "import pymc3 as pm\n",
        "import arviz as az\n",
        "import scipy.stats as stats\n",
        "import matplotlib.pyplot as plt\n",
        "%matplotlib inline"
      ],
      "execution_count": 28,
      "outputs": []
    },
    {
      "cell_type": "markdown",
      "metadata": {
        "id": "b3rDA72eNk5y"
      },
      "source": [
        "### Instantiating the model."
      ]
    },
    {
      "cell_type": "code",
      "metadata": {
        "colab": {
          "base_uri": "https://localhost:8080/",
          "height": 0
        },
        "id": "_Roq5nuSPNUj",
        "outputId": "169d02f2-1dd5-4a6a-9ce1-1d96b712dd5f"
      },
      "source": [
        "# Finding the  maximum of efficiency\n",
        "column = r_df[\"efficiency\"]\n",
        "max_value = column.max()\n",
        "print(max_value)"
      ],
      "execution_count": 32,
      "outputs": [
        {
          "output_type": "stream",
          "text": [
            "1.0\n"
          ],
          "name": "stdout"
        }
      ]
    },
    {
      "cell_type": "code",
      "metadata": {
        "id": "iQncz97iWNQg"
      },
      "source": [
        ""
      ],
      "execution_count": null,
      "outputs": []
    },
    {
      "cell_type": "code",
      "metadata": {
        "id": "ImmXFVi1WNLw"
      },
      "source": [
        ""
      ],
      "execution_count": null,
      "outputs": []
    },
    {
      "cell_type": "code",
      "metadata": {
        "colab": {
          "base_uri": "https://localhost:8080/",
          "height": 0
        },
        "id": "obVII9QuQRuF",
        "outputId": "bcd531e8-f482-4c3b-a3af-518268299229"
      },
      "source": [
        "# Finding the  minimum of efficiency\n",
        "column = r_df[\"efficiency\"]\n",
        "min_value = column.min()\n",
        "print(min_value)"
      ],
      "execution_count": 33,
      "outputs": [
        {
          "output_type": "stream",
          "text": [
            "0.6439159975293391\n"
          ],
          "name": "stdout"
        }
      ]
    },
    {
      "cell_type": "code",
      "metadata": {
        "id": "6LCMjWOaWOIK"
      },
      "source": [
        ""
      ],
      "execution_count": null,
      "outputs": []
    },
    {
      "cell_type": "code",
      "metadata": {
        "id": "vy_aZZFBWOCy"
      },
      "source": [
        ""
      ],
      "execution_count": null,
      "outputs": []
    },
    {
      "cell_type": "code",
      "metadata": {
        "colab": {
          "base_uri": "https://localhost:8080/",
          "height": 0
        },
        "id": "eVR7PrPfQpFy",
        "outputId": "912c7ea8-e650-4850-b052-204976b4bdd6"
      },
      "source": [
        "# Standard deviation of efficiency\n",
        "r_df['efficiency'].std()"
      ],
      "execution_count": 34,
      "outputs": [
        {
          "output_type": "execute_result",
          "data": {
            "text/plain": [
              "0.08772730249199161"
            ]
          },
          "metadata": {
            "tags": []
          },
          "execution_count": 34
        }
      ]
    },
    {
      "cell_type": "code",
      "metadata": {
        "id": "pQFCwrPMWPL6"
      },
      "source": [
        ""
      ],
      "execution_count": null,
      "outputs": []
    },
    {
      "cell_type": "code",
      "metadata": {
        "id": "gu87DJiBWPEI"
      },
      "source": [
        ""
      ],
      "execution_count": null,
      "outputs": []
    },
    {
      "cell_type": "code",
      "metadata": {
        "colab": {
          "base_uri": "https://localhost:8080/",
          "height": 205
        },
        "id": "NdAZphwbNsfY",
        "outputId": "83f35fb8-4c2a-40a2-a476-9b9701361773"
      },
      "source": [
        "with pm.Model() as model_g:\n",
        "    μ = pm.Uniform('μ', lower=0.6439159975293391, upper=1.0)  # Range of Efficiency\n",
        "    σ = pm.HalfNormal('σ', sd=0.08772730249199161)            # Standard deviation of efficiency\n",
        "    y = pm.Normal('y', mu=μ, sd=σ, observed=r_df['efficiency'].values)\n",
        "    trace_g = pm.sample(1000, tune=1000)"
      ],
      "execution_count": 35,
      "outputs": [
        {
          "output_type": "stream",
          "text": [
            "/usr/local/lib/python3.7/dist-packages/ipykernel_launcher.py:5: FutureWarning: In v4.0, pm.sample will return an `arviz.InferenceData` object instead of a `MultiTrace` by default. You can pass return_inferencedata=True or return_inferencedata=False to be safe and silence this warning.\n",
            "  \"\"\"\n",
            "Auto-assigning NUTS sampler...\n",
            "Initializing NUTS using jitter+adapt_diag...\n",
            "Sequential sampling (2 chains in 1 job)\n",
            "NUTS: [σ, μ]\n"
          ],
          "name": "stderr"
        },
        {
          "output_type": "display_data",
          "data": {
            "text/html": [
              "\n",
              "    <div>\n",
              "        <style>\n",
              "            /* Turns off some styling */\n",
              "            progress {\n",
              "                /* gets rid of default border in Firefox and Opera. */\n",
              "                border: none;\n",
              "                /* Needs to be in here for Safari polyfill so background images work as expected. */\n",
              "                background-size: auto;\n",
              "            }\n",
              "            .progress-bar-interrupted, .progress-bar-interrupted::-webkit-progress-bar {\n",
              "                background: #F44336;\n",
              "            }\n",
              "        </style>\n",
              "      <progress value='2000' class='' max='2000' style='width:300px; height:20px; vertical-align: middle;'></progress>\n",
              "      100.00% [2000/2000 00:03<00:00 Sampling chain 0, 0 divergences]\n",
              "    </div>\n",
              "    "
            ],
            "text/plain": [
              "<IPython.core.display.HTML object>"
            ]
          },
          "metadata": {
            "tags": []
          }
        },
        {
          "output_type": "display_data",
          "data": {
            "text/html": [
              "\n",
              "    <div>\n",
              "        <style>\n",
              "            /* Turns off some styling */\n",
              "            progress {\n",
              "                /* gets rid of default border in Firefox and Opera. */\n",
              "                border: none;\n",
              "                /* Needs to be in here for Safari polyfill so background images work as expected. */\n",
              "                background-size: auto;\n",
              "            }\n",
              "            .progress-bar-interrupted, .progress-bar-interrupted::-webkit-progress-bar {\n",
              "                background: #F44336;\n",
              "            }\n",
              "        </style>\n",
              "      <progress value='2000' class='' max='2000' style='width:300px; height:20px; vertical-align: middle;'></progress>\n",
              "      100.00% [2000/2000 00:01<00:00 Sampling chain 1, 0 divergences]\n",
              "    </div>\n",
              "    "
            ],
            "text/plain": [
              "<IPython.core.display.HTML object>"
            ]
          },
          "metadata": {
            "tags": []
          }
        },
        {
          "output_type": "stream",
          "text": [
            "Sampling 2 chains for 1_000 tune and 1_000 draw iterations (2_000 + 2_000 draws total) took 5 seconds.\n"
          ],
          "name": "stderr"
        }
      ]
    },
    {
      "cell_type": "code",
      "metadata": {
        "id": "3nmNJXtXWQh4"
      },
      "source": [
        ""
      ],
      "execution_count": null,
      "outputs": []
    },
    {
      "cell_type": "code",
      "metadata": {
        "id": "W0B2HmEAWQZw"
      },
      "source": [
        ""
      ],
      "execution_count": null,
      "outputs": []
    },
    {
      "cell_type": "markdown",
      "metadata": {
        "id": "uK_2cPRpI4sT"
      },
      "source": [
        "### Fitting the model."
      ]
    },
    {
      "cell_type": "code",
      "metadata": {
        "colab": {
          "base_uri": "https://localhost:8080/",
          "height": 313
        },
        "id": "s0almQ1AJD0G",
        "outputId": "096f9fca-8a6d-4b77-9739-ef50deea4694"
      },
      "source": [
        "az.plot_kde(r_df['efficiency'].values, rug=True)\n",
        "plt.yticks([0], alpha=0);"
      ],
      "execution_count": 29,
      "outputs": [
        {
          "output_type": "display_data",
          "data": {
            "image/png": "[encoded data removed]",
            "text/plain": [
              "<Figure size 432x288 with 1 Axes>"
            ]
          },
          "metadata": {
            "tags": [],
            "needs_background": "light"
          }
        }
      ]
    },
    {
      "cell_type": "code",
      "metadata": {
        "colab": {
          "base_uri": "https://localhost:8080/",
          "height": 369
        },
        "id": "-3J8q54GR7bY",
        "outputId": "1f6c9e3d-b30d-4c26-e04b-2595f1e83c28"
      },
      "source": [
        "# Plotting the gausian model trace.\n",
        "az.plot_trace(trace_g);"
      ],
      "execution_count": 36,
      "outputs": [
        {
          "output_type": "stream",
          "text": [
            "/usr/local/lib/python3.7/dist-packages/arviz/data/io_pymc3.py:100: FutureWarning: Using `from_pymc3` without the model will be deprecated in a future release. Not using the model will return less accurate and less useful results. Make sure you use the model argument or call from_pymc3 within a model context.\n",
            "  FutureWarning,\n"
          ],
          "name": "stderr"
        },
        {
          "output_type": "display_data",
          "data": {
            "image/png": "[encoded data removed]",
            "text/plain": [
              "<Figure size 864x288 with 4 Axes>"
            ]
          },
          "metadata": {
            "tags": [],
            "needs_background": "light"
          }
        }
      ]
    },
    {
      "cell_type": "code",
      "metadata": {
        "colab": {
          "base_uri": "https://localhost:8080/",
          "height": 951
        },
        "id": "RNuV9kIrSIs4",
        "outputId": "dbb5423c-6f18-42b4-accc-40507f44a27c"
      },
      "source": [
        "# Plotting joint distribution of parameters\n",
        "az.plot_joint(trace_g, kind='kde', fill_last=False);"
      ],
      "execution_count": 37,
      "outputs": [
        {
          "output_type": "stream",
          "text": [
            "/usr/local/lib/python3.7/dist-packages/arviz/plots/jointplot.py:144: UserWarning: plot_joint will be deprecated. Please use plot_pair instead.\n",
            "  warnings.warn(\"plot_joint will be deprecated. Please use plot_pair instead.\")\n",
            "/usr/local/lib/python3.7/dist-packages/arviz/data/io_pymc3.py:100: FutureWarning: Using `from_pymc3` without the model will be deprecated in a future release. Not using the model will return less accurate and less useful results. Make sure you use the model argument or call from_pymc3 within a model context.\n",
            "  FutureWarning,\n",
            "/usr/local/lib/python3.7/dist-packages/arviz/utils.py:409: NumbaWarning: \n",
            "Compilation is falling back to object mode WITH looplifting enabled because Function \"_cov\" failed type inference due to: Untyped global name '_dot': cannot determine Numba type of <class 'arviz.utils.maybe_numba_fn'>\n",
            "\n",
            "File \"../usr/local/lib/python3.7/dist-packages/arviz/utils.py\", line 421:\n",
            "def _cov(data):\n",
            "    <source elided>\n",
            "        x -= avg[:, None]\n",
            "        prod = _dot(x, x.T.conj())\n",
            "        ^\n",
            "\n",
            "  @conditional_jit(cache=True)\n",
            "/usr/local/lib/python3.7/dist-packages/numba/core/object_mode_passes.py:178: NumbaWarning: Function \"_cov\" was compiled in object mode without forceobj=True.\n",
            "\n",
            "File \"../usr/local/lib/python3.7/dist-packages/arviz/utils.py\", line 410:\n",
            "@conditional_jit(cache=True)\n",
            "def _cov(data):\n",
            "^\n",
            "\n",
            "  state.func_ir.loc))\n",
            "/usr/local/lib/python3.7/dist-packages/numba/core/object_mode_passes.py:188: NumbaDeprecationWarning: \n",
            "Fall-back from the nopython compilation path to the object mode compilation path has been detected, this is deprecated behaviour.\n",
            "\n",
            "For more information visit https://numba.pydata.org/numba-doc/latest/reference/deprecation.html#deprecation-of-object-mode-fall-back-behaviour-when-using-jit\n",
            "\n",
            "File \"../usr/local/lib/python3.7/dist-packages/arviz/utils.py\", line 410:\n",
            "@conditional_jit(cache=True)\n",
            "def _cov(data):\n",
            "^\n",
            "\n",
            "  state.func_ir.loc))\n"
          ],
          "name": "stderr"
        },
        {
          "output_type": "display_data",
          "data": {
            "image/png": "[encoded data removed]",
            "text/plain": [
              "<Figure size 432x288 with 4 Axes>"
            ]
          },
          "metadata": {
            "tags": [],
            "needs_background": "light"
          }
        }
      ]
    },
    {
      "cell_type": "code",
      "metadata": {
        "colab": {
          "base_uri": "https://localhost:8080/",
          "height": 165
        },
        "id": "5ngVoKzwSnvA",
        "outputId": "ae04077d-c10b-443d-9dd1-922aa8556e03"
      },
      "source": [
        "# Detailed summary of the posterior distribution for each parameter.\n",
        "az.summary(trace_g)"
      ],
      "execution_count": 38,
      "outputs": [
        {
          "output_type": "stream",
          "text": [
            "/usr/local/lib/python3.7/dist-packages/arviz/data/io_pymc3.py:100: FutureWarning: Using `from_pymc3` without the model will be deprecated in a future release. Not using the model will return less accurate and less useful results. Make sure you use the model argument or call from_pymc3 within a model context.\n",
            "  FutureWarning,\n"
          ],
          "name": "stderr"
        },
        {
          "output_type": "execute_result",
          "data": {
            "text/html": [
              "<div>\n",
              "<style scoped>\n",
              "    .dataframe tbody tr th:only-of-type {\n",
              "        vertical-align: middle;\n",
              "    }\n",
              "\n",
              "    .dataframe tbody tr th {\n",
              "        vertical-align: top;\n",
              "    }\n",
              "\n",
              "    .dataframe thead th {\n",
              "        text-align: right;\n",
              "    }\n",
              "</style>\n",
              "<table border=\"1\" class=\"dataframe\">\n",
              "  <thead>\n",
              "    <tr style=\"text-align: right;\">\n",
              "      <th></th>\n",
              "      <th>mean</th>\n",
              "      <th>sd</th>\n",
              "      <th>hdi_3%</th>\n",
              "      <th>hdi_97%</th>\n",
              "      <th>mcse_mean</th>\n",
              "      <th>mcse_sd</th>\n",
              "      <th>ess_bulk</th>\n",
              "      <th>ess_tail</th>\n",
              "      <th>r_hat</th>\n",
              "    </tr>\n",
              "  </thead>\n",
              "  <tbody>\n",
              "    <tr>\n",
              "      <th>μ</th>\n",
              "      <td>0.898</td>\n",
              "      <td>0.004</td>\n",
              "      <td>0.891</td>\n",
              "      <td>0.906</td>\n",
              "      <td>0.0</td>\n",
              "      <td>0.0</td>\n",
              "      <td>1742.0</td>\n",
              "      <td>1452.0</td>\n",
              "      <td>1.0</td>\n",
              "    </tr>\n",
              "    <tr>\n",
              "      <th>σ</th>\n",
              "      <td>0.088</td>\n",
              "      <td>0.003</td>\n",
              "      <td>0.083</td>\n",
              "      <td>0.093</td>\n",
              "      <td>0.0</td>\n",
              "      <td>0.0</td>\n",
              "      <td>1600.0</td>\n",
              "      <td>1214.0</td>\n",
              "      <td>1.0</td>\n",
              "    </tr>\n",
              "  </tbody>\n",
              "</table>\n",
              "</div>"
            ],
            "text/plain": [
              "    mean     sd  hdi_3%  hdi_97%  mcse_mean  mcse_sd  ess_bulk  ess_tail  r_hat\n",
              "μ  0.898  0.004   0.891    0.906        0.0      0.0    1742.0    1452.0    1.0\n",
              "σ  0.088  0.003   0.083    0.093        0.0      0.0    1600.0    1214.0    1.0"
            ]
          },
          "metadata": {
            "tags": []
          },
          "execution_count": 38
        }
      ]
    },
    {
      "cell_type": "markdown",
      "metadata": {
        "id": "5Q-LIsGJGMT-"
      },
      "source": [
        "Q1. Is efficiency higher in the Equal Rationing treatment than in the Proportional Rationing treatment?"
      ]
    },
    {
      "cell_type": "code",
      "metadata": {
        "colab": {
          "base_uri": "https://localhost:8080/",
          "height": 0
        },
        "id": "RyMSfLvIF7z1",
        "outputId": "5500dba4-ad5d-4f10-8590-5bc615f34a23"
      },
      "source": [
        "r_df['treatment'].unique()"
      ],
      "execution_count": 19,
      "outputs": [
        {
          "output_type": "execute_result",
          "data": {
            "text/plain": [
              "array(['Proportional', 'Equal'], dtype=object)"
            ]
          },
          "metadata": {
            "tags": []
          },
          "execution_count": 19
        }
      ]
    },
    {
      "cell_type": "code",
      "metadata": {
        "colab": {
          "base_uri": "https://localhost:8080/",
          "height": 218
        },
        "id": "KrHUGOyyGFFQ",
        "outputId": "830bec10-6cf8-41a0-9388-d17f231bf48d"
      },
      "source": [
        "r_df.head()"
      ],
      "execution_count": 20,
      "outputs": [
        {
          "output_type": "execute_result",
          "data": {
            "text/html": [
              "<div>\n",
              "<style scoped>\n",
              "    .dataframe tbody tr th:only-of-type {\n",
              "        vertical-align: middle;\n",
              "    }\n",
              "\n",
              "    .dataframe tbody tr th {\n",
              "        vertical-align: top;\n",
              "    }\n",
              "\n",
              "    .dataframe thead th {\n",
              "        text-align: right;\n",
              "    }\n",
              "</style>\n",
              "<table border=\"1\" class=\"dataframe\">\n",
              "  <thead>\n",
              "    <tr style=\"text-align: right;\">\n",
              "      <th></th>\n",
              "      <th>treatment</th>\n",
              "      <th>group</th>\n",
              "      <th>experiment_id</th>\n",
              "      <th>round</th>\n",
              "      <th>auction_price</th>\n",
              "      <th>total_demand</th>\n",
              "      <th>total_auction_income</th>\n",
              "      <th>tier_1_income</th>\n",
              "      <th>tier_2_income</th>\n",
              "      <th>efficiency</th>\n",
              "      <th>demand_profile</th>\n",
              "      <th>overbuying_count</th>\n",
              "      <th>efficiency_relative</th>\n",
              "      <th>high_value_demand</th>\n",
              "      <th>demand_level</th>\n",
              "    </tr>\n",
              "  </thead>\n",
              "  <tbody>\n",
              "    <tr>\n",
              "      <th>0</th>\n",
              "      <td>Proportional</td>\n",
              "      <td>High</td>\n",
              "      <td>0</td>\n",
              "      <td>1</td>\n",
              "      <td>20</td>\n",
              "      <td>168</td>\n",
              "      <td>1200</td>\n",
              "      <td>1000</td>\n",
              "      <td>900</td>\n",
              "      <td>0.840265</td>\n",
              "      <td>5</td>\n",
              "      <td>0</td>\n",
              "      <td>-0.201721</td>\n",
              "      <td>0</td>\n",
              "      <td>2</td>\n",
              "    </tr>\n",
              "    <tr>\n",
              "      <th>1</th>\n",
              "      <td>Proportional</td>\n",
              "      <td>High</td>\n",
              "      <td>0</td>\n",
              "      <td>2</td>\n",
              "      <td>30</td>\n",
              "      <td>151</td>\n",
              "      <td>1800</td>\n",
              "      <td>1000</td>\n",
              "      <td>1020</td>\n",
              "      <td>0.870866</td>\n",
              "      <td>3</td>\n",
              "      <td>1</td>\n",
              "      <td>-0.416870</td>\n",
              "      <td>0</td>\n",
              "      <td>1</td>\n",
              "    </tr>\n",
              "    <tr>\n",
              "      <th>2</th>\n",
              "      <td>Proportional</td>\n",
              "      <td>High</td>\n",
              "      <td>0</td>\n",
              "      <td>3</td>\n",
              "      <td>50</td>\n",
              "      <td>151</td>\n",
              "      <td>3000</td>\n",
              "      <td>1000</td>\n",
              "      <td>1170</td>\n",
              "      <td>0.938058</td>\n",
              "      <td>3</td>\n",
              "      <td>1</td>\n",
              "      <td>0.320363</td>\n",
              "      <td>0</td>\n",
              "      <td>1</td>\n",
              "    </tr>\n",
              "    <tr>\n",
              "      <th>3</th>\n",
              "      <td>Proportional</td>\n",
              "      <td>High</td>\n",
              "      <td>0</td>\n",
              "      <td>4</td>\n",
              "      <td>40</td>\n",
              "      <td>210</td>\n",
              "      <td>2400</td>\n",
              "      <td>1000</td>\n",
              "      <td>1500</td>\n",
              "      <td>0.786597</td>\n",
              "      <td>6</td>\n",
              "      <td>0</td>\n",
              "      <td>0.366418</td>\n",
              "      <td>1</td>\n",
              "      <td>3</td>\n",
              "    </tr>\n",
              "    <tr>\n",
              "      <th>4</th>\n",
              "      <td>Proportional</td>\n",
              "      <td>High</td>\n",
              "      <td>0</td>\n",
              "      <td>5</td>\n",
              "      <td>45</td>\n",
              "      <td>210</td>\n",
              "      <td>2700</td>\n",
              "      <td>1000</td>\n",
              "      <td>1500</td>\n",
              "      <td>0.791824</td>\n",
              "      <td>7</td>\n",
              "      <td>0</td>\n",
              "      <td>0.118316</td>\n",
              "      <td>0</td>\n",
              "      <td>3</td>\n",
              "    </tr>\n",
              "  </tbody>\n",
              "</table>\n",
              "</div>"
            ],
            "text/plain": [
              "      treatment group  ...  high_value_demand  demand_level\n",
              "0  Proportional  High  ...                  0             2\n",
              "1  Proportional  High  ...                  0             1\n",
              "2  Proportional  High  ...                  0             1\n",
              "3  Proportional  High  ...                  1             3\n",
              "4  Proportional  High  ...                  0             3\n",
              "\n",
              "[5 rows x 15 columns]"
            ]
          },
          "metadata": {
            "tags": []
          },
          "execution_count": 20
        }
      ]
    },
    {
      "cell_type": "code",
      "metadata": {
        "id": "ttvNGU4bGfyu"
      },
      "source": [
        "jupyter nbconvert --to html notebook.ipynb  "
      ],
      "execution_count": null,
      "outputs": []
    }
  ]
}